{
 "cells": [
  {
   "cell_type": "code",
   "execution_count": 7,
   "id": "74368e1d",
   "metadata": {},
   "outputs": [],
   "source": [
    "%matplotlib inline \n",
    "%config InlineBackend.figure_format = 'retina'\n",
    "\n",
    "import numpy as np \n",
    "import math\n",
    "import matplotlib.pyplot as plt\n",
    "import matplotlib.pylab as pylab\n",
    "#import jdc\n",
    "from ExerciseAnswers import Answers\n",
    "\n",
    "pylab.rcParams['figure.figsize'] = 13, 13"
   ]
  },
  {
   "cell_type": "markdown",
   "id": "b7eb12ea",
   "metadata": {},
   "source": [
    "In this exercise you will implement three more methods in the `Drone2D` class: `z_dot_dot(self)`, `y_dot_dot(self)`, and `phi_dot_dot(self)`"
   ]
  },
  {
   "cell_type": "markdown",
   "id": "01216bbc",
   "metadata": {},
   "source": [
    "Also, consider the following equations which we have seen in the previous videos:\n",
    "\n",
    "$$ c = F_1 + F_2 $$\n",
    "$$\\ddot{z} = g - \\cos(\\phi) \\frac{c}{m}$$\n",
    "\n",
    "$$c = F_1 + F_2$$\n",
    "$$\\ddot{y} = \\sin(\\phi) \\frac{c}{m}$$\n",
    "\n",
    "$$M_x = L(F_1 - F_2)$$\n",
    "$$\\ddot{\\phi} = \\frac{M_x}{I_x}$$\n"
   ]
  },
  {
   "cell_type": "code",
   "execution_count": 16,
   "id": "c6a4f5fa",
   "metadata": {},
   "outputs": [],
   "source": [
    "class Drone2D:\n",
    "    \n",
    "    def __init__(self,\n",
    "                 k_f = 0.1, # value of the thrust coefficient\n",
    "                 I_x = 0.1, # moment of inertia around the x-axis\n",
    "                 m = 1.0,   # mass of the vehicle \n",
    "                 l = 0.5,   # distance between the center of \n",
    "                            #   mass and the propeller axis\n",
    "                ):\n",
    "        \n",
    "        # Initializing constants and input parameters\n",
    "        self.k_f = k_f\n",
    "        self.I_x = I_x\n",
    "        self.l = l \n",
    "        self.m = m\n",
    "        self.g = 9.81\n",
    "        \n",
    "        # Initial state\n",
    "        self.omega_1 = 0.0\n",
    "        self.omega_2 = 0.0\n",
    "        self.X = np.array([0.0,0.0,0.0,0.0,0.0,0.0])   # z, y, phi, z_dot, y_dot, phi_dot\n",
    "        \n",
    "    def advance_state_uncontrolled(self,dt):\n",
    "        \"\"\"Advances the state of the drone by dt seconds. \n",
    "        Note that this method assumes zero rotational speed \n",
    "        for both propellers.\"\"\"\n",
    "        \n",
    "        # Definition of X_dot\n",
    "        # X_dot = z_dot, y_dot, phi_dot, z_dot_dot, y_dot_dot, phi_dot_dot        \n",
    "        X_dot = np.array([self.X[3], self.X[4], self.X[5], self.g, 0.0, 0.0])\n",
    "        \n",
    "        # Change in state due to dt\n",
    "        self.X += X_dot * dt\n",
    "        \n",
    "        return self.X\n",
    "    \n",
    "    def get_thrust_and_moment(self):\n",
    "        \"\"\"Helper function which calculates and returns the \n",
    "        collective thrust and the moment about the X axis\"\"\"\n",
    "\n",
    "        # Thrust\n",
    "        f1 = self.k_f * self.omega_1 ** 2   # propeller 1\n",
    "        f2 = self.k_f * self.omega_2 ** 2   # propeller 2\n",
    "        c = f1 + f2                         # \"collective\" thrust\n",
    "        \n",
    "        # Moment\n",
    "        M_x = (f1 - f2) * self.l\n",
    "        \n",
    "        return c, M_x\n",
    "    \n",
    "    \n",
    "    @property\n",
    "    def z_dot_dot(self):\n",
    "        \"\"\"Vertical (z) acceleration of drone.\"\"\"\n",
    "        c, _ = self.get_thrust_and_moment()\n",
    "        \n",
    "        return (self.g - c * np.cos(self.X[2])) / self.m\n",
    "\n",
    "    @property    \n",
    "    def y_dot_dot(self):\n",
    "        \"\"\"Lateral (y) acceleration of drone.\"\"\"\n",
    "        c, _ = self.get_thrust_and_moment()\n",
    "        \n",
    "        return (+ c * np.sin(self.X[2])) / self.m\n",
    "    \n",
    "    @property\n",
    "    def phi_dot_dot(self):\n",
    "        ''' Angular acceleration about the x-axis (phi) of drone\n",
    "        '''\n",
    "        _, M_x = self.get_thrust_and_moment()\n",
    "        \n",
    "        return M_x / self.I_x"
   ]
  },
  {
   "cell_type": "code",
   "execution_count": 17,
   "id": "7eeba088",
   "metadata": {},
   "outputs": [
    {
     "name": "stdout",
     "output_type": "stream",
     "text": [
      "z_dot_dot works\n",
      "y_dot_dot works\n",
      "phi_dot_dot works\n"
     ]
    }
   ],
   "source": [
    "# TESTING CODE\n",
    "# \n",
    "# run this cell to see how if your functions are working.\n",
    "\n",
    "def equal_floats(num1, num2):\n",
    "    return abs(num1 - num2) < 0.00001\n",
    " \n",
    "drone = Drone2D(m=1.0, I_x=1.5, k_f=1.0)\n",
    "drone.omega_1 = 1.0 \n",
    "drone.omega_2 = 2.0\n",
    "\n",
    "# tilt the test drone to 30 degrees\n",
    "drone.X[2] = math.pi / 6\n",
    "\n",
    "# test z_dot_dot\n",
    "if equal_floats(drone.z_dot_dot, 5.47987):\n",
    "    print(\"z_dot_dot works\")\n",
    "else:\n",
    "    print(\"  ERROR in z_dot_dot\")\n",
    "\n",
    "# test y_dot_dot\n",
    "if equal_floats(drone.y_dot_dot, 2.50):\n",
    "    print(\"y_dot_dot works\")\n",
    "else:\n",
    "    print(\"  ERROR in y_dot_dot\")\n",
    "    \n",
    "# test y_dot_dot\n",
    "if equal_floats(drone.phi_dot_dot, -1):\n",
    "    print(\"phi_dot_dot works\")\n",
    "else:\n",
    "    print(\"  ERROR in phi_dot_dot\")"
   ]
  },
  {
   "cell_type": "code",
   "execution_count": null,
   "id": "e1b2a953",
   "metadata": {},
   "outputs": [],
   "source": []
  }
 ],
 "metadata": {
  "kernelspec": {
   "display_name": "Python 3",
   "language": "python",
   "name": "python3"
  },
  "language_info": {
   "codemirror_mode": {
    "name": "ipython",
    "version": 3
   },
   "file_extension": ".py",
   "mimetype": "text/x-python",
   "name": "python",
   "nbconvert_exporter": "python",
   "pygments_lexer": "ipython3",
   "version": "3.6.3"
  }
 },
 "nbformat": 4,
 "nbformat_minor": 5
}
