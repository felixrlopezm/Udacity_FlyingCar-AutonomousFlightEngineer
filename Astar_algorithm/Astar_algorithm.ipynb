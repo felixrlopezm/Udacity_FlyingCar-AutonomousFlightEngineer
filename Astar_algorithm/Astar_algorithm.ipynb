{
 "cells": [
  {
   "cell_type": "markdown",
   "id": "955ff95c",
   "metadata": {},
   "source": [
    "# A* algorithm"
   ]
  },
  {
   "cell_type": "markdown",
   "id": "f11c0a66",
   "metadata": {},
   "source": [
    "Implementation of the A* algorithm.\n",
    "\n",
    "The A* algorithm is a simple yet elegant way of efficiently finding the lowest cost path from start to goal. "
   ]
  },
  {
   "cell_type": "code",
   "execution_count": 8,
   "id": "904c4e87",
   "metadata": {},
   "outputs": [],
   "source": [
    "from queue import Queue, PriorityQueue\n",
    "import numpy as np\n",
    "from enum import Enum"
   ]
  },
  {
   "cell_type": "markdown",
   "id": "d32a007f",
   "metadata": {},
   "source": [
    "Python priority queue is used as a convenient way of maintaining a sorted queue. The PriorityQueue data structure allows us to quickly and efficiently select the lowest cost partial plan from the queue of all partial plans.\n",
    "\n",
    "\n",
    "[`PriorityQueue`](https://docs.python.org/3/library/queue.html#queue.PriorityQueue) is used as a convenient way of maintaining a sorted queue. It allows us to quickly and efficiently select the lowest cost partial plan from the queue of all partial plans. More about `PriorityQueue` [here](https://www.linode.com/docs/guides/python-priority-queue/)."
   ]
  },
  {
   "cell_type": "code",
   "execution_count": 9,
   "id": "acf2516c",
   "metadata": {},
   "outputs": [],
   "source": [
    "class Action(Enum):\n",
    "    \"\"\"\n",
    "    An action is represented by a 3 element tuple.\n",
    "    \n",
    "    The first 2 values are the delta of the action relative\n",
    "    to the current grid position. The third and final value\n",
    "    is the cost of performing the action.\n",
    "    \"\"\"\n",
    "    LEFT = (0, -1, 1)\n",
    "    RIGHT = (0, 1, 1)\n",
    "    UP = (-1, 0, 1)      \n",
    "    DOWN = (1, 0, 1)\n",
    "    \n",
    "    def __str__(self):\n",
    "        if self == self.LEFT:\n",
    "            return '<'\n",
    "        elif self == self.RIGHT:\n",
    "            return '>'\n",
    "        elif self == self.UP:\n",
    "            return '^'\n",
    "        elif self == self.DOWN:\n",
    "            return 'v'\n",
    "    \n",
    "    @property\n",
    "    def cost(self):\n",
    "        return self.value[2]\n",
    "    \n",
    "    @property\n",
    "    def delta(self):\n",
    "        return (self.value[0], self.value[1])\n",
    "            \n",
    "    \n",
    "def valid_actions(grid, current_node):\n",
    "    \"\"\"\n",
    "    Returns a list of valid actions given a grid and current node.\n",
    "    \"\"\"\n",
    "    valid = [Action.UP, Action.LEFT, Action.RIGHT, Action.DOWN]\n",
    "    n, m = grid.shape[0] - 1, grid.shape[1] - 1\n",
    "    x, y = current_node\n",
    "    \n",
    "    # check if the node is off the grid or\n",
    "    # it's an obstacle\n",
    "    \n",
    "    if x - 1 < 0 or grid[x-1, y] == 1:\n",
    "        valid.remove(Action.UP)\n",
    "    if x + 1 > n or grid[x+1, y] == 1:\n",
    "        valid.remove(Action.DOWN)\n",
    "    if y - 1 < 0 or grid[x, y-1] == 1:\n",
    "        valid.remove(Action.LEFT)\n",
    "    if y + 1 > m or grid[x, y+1] == 1:\n",
    "        valid.remove(Action.RIGHT)\n",
    "        \n",
    "    return valid\n",
    "\n",
    "def visualize_path(grid, path, start):\n",
    "    sgrid = np.zeros(np.shape(grid), dtype=np.str)\n",
    "    sgrid[:] = ' '\n",
    "    sgrid[grid[:] == 1] = 'O'\n",
    "    \n",
    "    pos = start\n",
    "    \n",
    "    for a in path:\n",
    "        da = a.value\n",
    "        sgrid[pos[0], pos[1]] = str(a)\n",
    "        pos = (pos[0] + da[0], pos[1] + da[1])\n",
    "    sgrid[pos[0], pos[1]] = 'G'\n",
    "    sgrid[start[0], start[1]] = 'S'  \n",
    "    return sgrid"
   ]
  },
  {
   "cell_type": "markdown",
   "id": "79f1879e",
   "metadata": {},
   "source": [
    "## Heuristics\n",
    "The heuristic function determines the $h()$ value for each cell based on the goal cell and the method chosen to determine it. The heuristic value can be the Euclidean distance between these cells $h= \\left((x_i-x_{goal})^2+(y_i-y_{goal})^2\\right)^{1/2}$ or the \"Manhattan distance\", which is the minimum number of moves required to reach the goal from the assigned cell $h = ||x_i-x_{goal}|| + ||y_i-y_{goal}||$. For this exercise you could use either, or something else which is *admissible* and *consistent*.\n",
    "\n",
    "The input variables include\n",
    "* **```position```** the coordinates of the cell for which you would like to determine the heuristic value.\n",
    "* **```goal_position```** the coordinates of the goal cell"
   ]
  },
  {
   "cell_type": "code",
   "execution_count": 10,
   "id": "687bcc15",
   "metadata": {},
   "outputs": [],
   "source": [
    "# Implement a heuristic function. This may be one of the\n",
    "# functions described above or feel free to think of something\n",
    "# else.\n",
    "def Euclidean_d(position, goal_position):\n",
    "    dx = goal_position[0] - position[0]\n",
    "    dy = goal_position[1] - position[1] \n",
    "    return ((dx**2 + dy**2)**0.5)\n",
    "\n",
    "def Manhattan_d(position, goal_position):\n",
    "    dx = goal_position[0] - position[0]\n",
    "    dy = goal_position[1] - position[1]\n",
    "    h = (dx**2 + dy**2)**0.5\n",
    "    return (abs(dx) + abs(dy))"
   ]
  },
  {
   "cell_type": "markdown",
   "id": "c28b17cf",
   "metadata": {},
   "source": [
    "## A* search\n",
    "\n",
    "A* search is an extension of the cost search you implemented. A heuristic function is used in addition to the cost penalty. Thus if the setup is:\n",
    "\n",
    "* $c$ is the current cost\n",
    "* $g$ is the cost function\n",
    "* $h$ is the heuristic function\n",
    "\n",
    "Then the new cost is $c_{new} = c + g() + h()$.\n",
    "\n",
    "The difference between $g$ and $h$ is that $g$ models the cost of performing actions, irrespective of the environment, while $h$ models the cost based on the environment, i.e., the distance to the goal."
   ]
  },
  {
   "cell_type": "code",
   "execution_count": 14,
   "id": "112f01d0",
   "metadata": {},
   "outputs": [],
   "source": [
    "def a_star(grid, heuristics, start, goal):\n",
    "\n",
    "    path = []\n",
    "    q = PriorityQueue()     # Priority queue for prioritizing expanding cells with lower cost\n",
    "    q.put((0, start))       # (cost, cell); cost value is use for priority\n",
    "    visited = set(start)\n",
    "    branch = {}\n",
    "\n",
    "    found = False           # Fag for end of search\n",
    "    \n",
    "    # Run loop while queue is not empty\n",
    "    while not q.empty():\n",
    "        # Get and remove the first element from the queue\n",
    "        item = q.get()\n",
    "        current_node = item[1]\n",
    "        \n",
    "        # Assignation of current cost\n",
    "        if current_node == start:\n",
    "            current_cost = 0.0\n",
    "        else:              \n",
    "            current_cost = branch[current_node][0]\n",
    "        \n",
    "        # If the current cell corresponds to the goal state, stop the search\n",
    "        if current_node == goal:        \n",
    "            print('Found a path.')\n",
    "            found = True\n",
    "            break\n",
    "        else:\n",
    "            # Get the new valid nodes connected to the current node\n",
    "            valid = valid_actions(grid, current_node)\n",
    "            # Iterate through each of the valid actions and:\n",
    "            for action in valid:\n",
    "                da = action.delta    # delta-movement of performing the action\n",
    "                next_node = (current_node[0] + da[0], current_node[1] + da[1])\n",
    "                \n",
    "                # Branch cost evaluation (action.cost + g)\n",
    "                branch_cost = action.cost + current_cost\n",
    "                \n",
    "                # Heuristics distance evaluation\n",
    "                h = heuristics(next_node, goal)\n",
    "                \n",
    "                # Queue cost evaluation (action.cost + g + h)\n",
    "                queue_cost = branch_cost + h\n",
    "                \n",
    "                if next_node not in visited:                \n",
    "                    visited.add(next_node)               \n",
    "                    branch[next_node] = (branch_cost, current_node, action)\n",
    "                    q.put((queue_cost, next_node))    \n",
    "                    \n",
    "    if found:\n",
    "        # retrace steps\n",
    "        n = goal\n",
    "        path_cost = branch[n][0]\n",
    "        while branch[n][1] != start:\n",
    "            path.append(branch[n][2])\n",
    "            n = branch[n][1]\n",
    "        path.append(branch[n][2])\n",
    "    else:\n",
    "        print('**********************')\n",
    "        print('Failed to find a path!')\n",
    "        print('**********************')\n",
    "        \n",
    "    return path[::-1], path_cost"
   ]
  },
  {
   "cell_type": "markdown",
   "id": "54d8f7b7",
   "metadata": {},
   "source": [
    "### Executing the search\n",
    "\n",
    "Run `a_star()` and reference the grid to see if the path makes sense."
   ]
  },
  {
   "cell_type": "code",
   "execution_count": 15,
   "id": "5dbd58e2",
   "metadata": {},
   "outputs": [],
   "source": [
    "start = (0, 0)\n",
    "goal = (3, 5)\n",
    "\n",
    "grid = np.array([\n",
    "    [0, 0, 1, 0, 0, 0],\n",
    "    [0, 1, 1, 0, 1, 0],\n",
    "    [0, 0, 0, 0, 1, 0],\n",
    "    [0, 0, 0, 1, 0, 0],\n",
    "    [0, 1, 0, 0, 1, 0],\n",
    "])"
   ]
  },
  {
   "cell_type": "code",
   "execution_count": 18,
   "id": "e2a28403",
   "metadata": {},
   "outputs": [
    {
     "name": "stdout",
     "output_type": "stream",
     "text": [
      "Found a path.\n",
      "Path cost:  12.0\n",
      "[<Action.DOWN: (1, 0, 1)>, <Action.DOWN: (1, 0, 1)>, <Action.RIGHT: (0, 1, 1)>, <Action.RIGHT: (0, 1, 1)>, <Action.RIGHT: (0, 1, 1)>, <Action.UP: (-1, 0, 1)>, <Action.UP: (-1, 0, 1)>, <Action.RIGHT: (0, 1, 1)>, <Action.RIGHT: (0, 1, 1)>, <Action.DOWN: (1, 0, 1)>, <Action.DOWN: (1, 0, 1)>, <Action.DOWN: (1, 0, 1)>]\n"
     ]
    }
   ],
   "source": [
    "#path, path_cost = a_star(grid, Euclidean_d, start, goal)    # Euclidean distance\n",
    "path, path_cost = a_star(grid, Manhattan_d, start, goal)     # Manhattan distance\n",
    "\n",
    "print('Path cost: ', path_cost)\n",
    "print(path)"
   ]
  },
  {
   "cell_type": "code",
   "execution_count": 19,
   "id": "ad48bbea",
   "metadata": {},
   "outputs": [
    {
     "data": {
      "text/plain": [
       "array([['S', ' ', 'O', '>', '>', 'v'],\n",
       "       ['v', 'O', 'O', '^', 'O', 'v'],\n",
       "       ['>', '>', '>', '^', 'O', 'v'],\n",
       "       [' ', ' ', ' ', 'O', ' ', 'G'],\n",
       "       [' ', 'O', ' ', ' ', 'O', ' ']], dtype='<U1')"
      ]
     },
     "execution_count": 19,
     "metadata": {},
     "output_type": "execute_result"
    }
   ],
   "source": [
    "# S -> start, G -> goal, O -> obstacle\n",
    "visualize_path(grid, path, start)"
   ]
  },
  {
   "cell_type": "code",
   "execution_count": null,
   "id": "66a055ec",
   "metadata": {},
   "outputs": [],
   "source": []
  }
 ],
 "metadata": {
  "kernelspec": {
   "display_name": "Python 3",
   "language": "python",
   "name": "python3"
  },
  "language_info": {
   "codemirror_mode": {
    "name": "ipython",
    "version": 3
   },
   "file_extension": ".py",
   "mimetype": "text/x-python",
   "name": "python",
   "nbconvert_exporter": "python",
   "pygments_lexer": "ipython3",
   "version": "3.6.3"
  }
 },
 "nbformat": 4,
 "nbformat_minor": 5
}
