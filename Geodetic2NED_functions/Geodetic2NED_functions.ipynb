{
 "cells": [
  {
   "cell_type": "markdown",
   "id": "955ff95c",
   "metadata": {},
   "source": [
    "# Geodetic to NED functions"
   ]
  },
  {
   "cell_type": "code",
   "execution_count": 6,
   "id": "904c4e87",
   "metadata": {},
   "outputs": [],
   "source": [
    "# First import the utm and numpy packages\n",
    "import utm\n",
    "import numpy"
   ]
  },
  {
   "cell_type": "markdown",
   "id": "d32a007f",
   "metadata": {},
   "source": [
    "To convert a GPS position (_longitude_, _latitude_, _altitude_) to a local position (_north_, _east_, _down_) you need to define a global home position as the origin of your NED coordinate frame. In general this might be the position your vehicle is in when the motors are armed, or some other home base position. Your first task is to define a function to convert from global position to a local position using the `utm`. To do this fill in the TODO's below!"
   ]
  },
  {
   "cell_type": "code",
   "execution_count": 7,
   "id": "98197bcc",
   "metadata": {},
   "outputs": [],
   "source": [
    "def global_to_local(global_position, global_home):\n",
    "    '''\n",
    "    This funcitons converts a point from Global Geodetic coordinates to\n",
    "    Local NED coordinates.\n",
    "    \n",
    "    Note that the NED frame needs to be defined with its home position (origin)\n",
    "    \n",
    "    IMPORTANT  Global Geodetic coordinates format: longitud, latitude, altitude (positive upwards)\n",
    "               Local NED format: north, east, down (positive downwards)\n",
    "    '''\n",
    "    \n",
    "    # HOME POSITION from Global Geodetic coordinates to Global UTM coordinates\n",
    "    (east_home, north_home, zn_home, zl_home) = utm.from_latlon(global_home[1], global_home[0])\n",
    "    \n",
    "    # CURRENT POSITION from Global Geodetic coordinates to Global UTM coordinates\n",
    "    (east, north, zn, zl) = utm.from_latlon(global_position[1], global_position[0])\n",
    "    \n",
    "    # CURRENT POSITION at Local NED coordinate frame                                     \n",
    "    local_position = numpy.array([north - north_home, east - east_home, -(global_position[2]-global_home[2])])\n",
    "    \n",
    "    return local_position"
   ]
  },
  {
   "cell_type": "markdown",
   "id": "79f1879e",
   "metadata": {},
   "source": [
    "### NED to Geodetic\n",
    "Now try converting a local position (_north_, _east_, _down_) relative to the home position to a global position (_long_, _lat_, _up_)."
   ]
  },
  {
   "cell_type": "code",
   "execution_count": 8,
   "id": "112f01d0",
   "metadata": {},
   "outputs": [],
   "source": [
    "def local_to_global(local_position, global_home):\n",
    "    '''\n",
    "    This funcitons converts a point from Local NED coordinates to\n",
    "    Global Geodetic coordinates.\n",
    "    \n",
    "    Note that the NED frame needs to be defined with its home position (origin)\n",
    "    \n",
    "    IMPORTANT  Global Geodetic coordinates: longitud, latitude, altitude (positive upwards)\n",
    "               Local NED format: north, east, down (positive downwards)\n",
    "    '''\n",
    "    \n",
    "    # HOME POSITION from Global Geodetic coordinates to Global UTM coordinates\n",
    "    (east_home, north_home, zn_home, zl_home) = utm.from_latlon(global_home[1], global_home[0])\n",
    "    \n",
    "    # CURRENT POSITION from Local NED frame to Global Geodetic latitude-longitude coordinates  \n",
    "    (latitude, longitude) = utm.to_latlon(local_position[1] + east_home,\n",
    "                                          local_position[0] + north_home,\n",
    "                                          zn_home, zl_home)\n",
    "    \n",
    "    # CURENT POSITON at Global Geodetic coordinate frame                              \n",
    "    global_position = numpy.array([longitude, latitude, -(local_position[2] - global_home[2])])\n",
    "    \n",
    "    return global_position"
   ]
  },
  {
   "cell_type": "markdown",
   "id": "54d8f7b7",
   "metadata": {},
   "source": [
    "As an example, we will use two sets of global coordinates. One **```geodetic_home_coordinates```** serving as a local origin for NED frame and the second **```geodetic_current_coordinates```** which we will be expressed in NED coordinates relative to the first one. "
   ]
  },
  {
   "cell_type": "code",
   "execution_count": 9,
   "id": "5dbd58e2",
   "metadata": {},
   "outputs": [
    {
     "name": "stdout",
     "output_type": "stream",
     "text": [
      "[-764.96 2571.59  -10.  ]\n"
     ]
    }
   ],
   "source": [
    "numpy.set_printoptions(precision=2)\n",
    "\n",
    "geodetic_current_coordinates = [-122.079465, 37.393037, 30]\n",
    "geodetic_home_coordinates = [-122.108432, 37.400154, 20]\n",
    "\n",
    "local_coordinates_NED = global_to_local(geodetic_current_coordinates, geodetic_home_coordinates)\n",
    "\n",
    "print(local_coordinates_NED)\n",
    "# Should print [ -764.96  2571.59   -10.  ]"
   ]
  },
  {
   "cell_type": "markdown",
   "id": "289597a8",
   "metadata": {},
   "source": [
    "In this example, we will do the reverse transform by obtaining the global coordinated by knowing NED coordinates relative to the other global coordinates. "
   ]
  },
  {
   "cell_type": "code",
   "execution_count": 10,
   "id": "ad48bbea",
   "metadata": {},
   "outputs": [
    {
     "name": "stdout",
     "output_type": "stream",
     "text": [
      "[-122.106982   37.40037    50.      ]\n"
     ]
    }
   ],
   "source": [
    "numpy.set_printoptions(precision=6)\n",
    "NED_coordinates =[25.21, 128.07, -30.]\n",
    "\n",
    "# convert back to global coordinates\n",
    "geodetic_current_coordinates = local_to_global(NED_coordinates, geodetic_home_coordinates)\n",
    "\n",
    "print(geodetic_current_coordinates)\n",
    "# Should print [-122.106982   37.40037    50.      ]"
   ]
  }
 ],
 "metadata": {
  "kernelspec": {
   "display_name": "Python 3",
   "language": "python",
   "name": "python3"
  },
  "language_info": {
   "codemirror_mode": {
    "name": "ipython",
    "version": 3
   },
   "file_extension": ".py",
   "mimetype": "text/x-python",
   "name": "python",
   "nbconvert_exporter": "python",
   "pygments_lexer": "ipython3",
   "version": "3.6.3"
  }
 },
 "nbformat": 4,
 "nbformat_minor": 5
}
