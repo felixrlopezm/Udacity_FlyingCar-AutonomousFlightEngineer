{
 "cells": [
  {
   "cell_type": "markdown",
   "id": "fd6a1b2d",
   "metadata": {},
   "source": [
    "## Collinearity Check\n",
    "Collinearity for any three points can be determined easily by taking the determinant of a matrix containing the points. For more details, go [here](https://mathworld.wolfram.com/Collinear.html).\n"
   ]
  },
  {
   "cell_type": "code",
   "execution_count": 51,
   "id": "770eb4f2",
   "metadata": {},
   "outputs": [],
   "source": [
    "import numpy as np "
   ]
  },
  {
   "cell_type": "code",
   "execution_count": 52,
   "id": "d66d6665",
   "metadata": {},
   "outputs": [],
   "source": [
    "# Define Points (feel free to change these)\n",
    "# By default these will be cast as int64 arrays\n",
    "p1 = np.array([1, 2])\n",
    "p2 = np.array([2, 3])\n",
    "p3 = np.array([3, 4])"
   ]
  },
  {
   "cell_type": "markdown",
   "id": "9014645d",
   "metadata": {},
   "source": [
    "### General Case\n",
    "\n",
    "Define a function to determine collinearity using the `np.linalg.det()` function. Introduce the `epsilon` threshold to allow a tolerance for collinearity. If the determinant is less than `epsilon` then the points are collinear. "
   ]
  },
  {
   "cell_type": "code",
   "execution_count": 55,
   "id": "ee58f434",
   "metadata": {},
   "outputs": [],
   "source": [
    "def add_z_as_1(p):\n",
    "    ''' This function to add a z coordinate of 1 to a 2D point\n",
    "    '''\n",
    "    return np.array([p[0], p[1], 1.])\n",
    "\n",
    "def collinearity_float(p1, p2, p3, epsilon=1e-2): \n",
    "    \n",
    "    # Add third dimension of z=1 to each point and create matrix\n",
    "    mat = np.vstack((add_z_as_1(p1), add_z_as_1(p2), add_z_as_1(p3)))\n",
    "    \n",
    "    # Determinant\n",
    "    det = np.linalg.det(mat)\n",
    "    \n",
    "    # Collinearity test\n",
    "    collinear = False\n",
    "    if np.abs(det) < epsilon:\n",
    "        collinear = True\n",
    "        \n",
    "    return collinear"
   ]
  },
  {
   "cell_type": "markdown",
   "id": "b5e913e9",
   "metadata": {},
   "source": [
    "### Integer Case\n",
    "Define a function to take three points and test for collinearity by evaluating the determinant using the simplified version for the 2D case:\n",
    "\n",
    "$ det = x_1(y_2-y_3) + x_2(y_3-y_1) + x_3(y_1-y_2)$"
   ]
  },
  {
   "cell_type": "code",
   "execution_count": 56,
   "id": "4dc6aa98",
   "metadata": {},
   "outputs": [],
   "source": [
    "def collinearity_int(p1, p2, p3): \n",
    "    collinear = False\n",
    "    # Determinant of the matrix using integer arithmetic\n",
    "    det = p1[0] * (p2[1] - p3[1]) + p2[0] * (p3[1] - p1[1]) + p3[0] * (p1[1] - p2[1])\n",
    "    \n",
    "    # Collinearity test\n",
    "    collinear = False\n",
    "    if np.abs(det) == 0:\n",
    "        collinear = True\n",
    "        \n",
    "    return collinear"
   ]
  },
  {
   "cell_type": "markdown",
   "id": "a2f89be6",
   "metadata": {},
   "source": [
    "### Test it and time it. Which method is faster?"
   ]
  },
  {
   "cell_type": "code",
   "execution_count": 77,
   "id": "e6461c27",
   "metadata": {},
   "outputs": [
    {
     "name": "stdout",
     "output_type": "stream",
     "text": [
      "3D calculation with np.linalg.det() and epsilon\n",
      "    Collinear: True\n",
      "    Calculation time: 0.0003008842468261719 \n",
      "\n",
      "2D calculation with integer arithmetic\n",
      "    Collinear: True\n",
      "    Calculation time: 8.082389831542969e-05 \n",
      "\n",
      "Speed 3D to 2D ratio: 3.7227138643067845\n",
      "    2D calculation is faster!\n"
     ]
    }
   ],
   "source": [
    "import time\n",
    "t1 = time.time()\n",
    "collinear = collinearity_float(p1, p2, p3)\n",
    "t_3D = time.time() - t1\n",
    "print('3D calculation with np.linalg.det() and epsilon')\n",
    "print('    Collinear:',collinear)\n",
    "print('    Calculation time:',t_3D,'\\n')\n",
    "\n",
    "t1 = time.time()\n",
    "collinear = collinearity_int(p1, p2, p3)\n",
    "t_2D = time.time() - t1\n",
    "print('2D calculation with integer arithmetic')\n",
    "print('    Collinear:',collinear)\n",
    "print('    Calculation time:',t_2D, '\\n')\n",
    "\n",
    "print('Speed 3D to 2D ratio:', t_3D/t_2D)\n",
    "if t_3D < t_2D:\n",
    "    print('    3D calculation is faster!')\n",
    "else:\n",
    "    print('    2D calculation is faster!')\n"
   ]
  },
  {
   "cell_type": "code",
   "execution_count": null,
   "id": "5bfd7082",
   "metadata": {},
   "outputs": [],
   "source": []
  }
 ],
 "metadata": {
  "kernelspec": {
   "display_name": "Python 3",
   "language": "python",
   "name": "python3"
  },
  "language_info": {
   "codemirror_mode": {
    "name": "ipython",
    "version": 3
   },
   "file_extension": ".py",
   "mimetype": "text/x-python",
   "name": "python",
   "nbconvert_exporter": "python",
   "pygments_lexer": "ipython3",
   "version": "3.6.3"
  }
 },
 "nbformat": 4,
 "nbformat_minor": 5
}
