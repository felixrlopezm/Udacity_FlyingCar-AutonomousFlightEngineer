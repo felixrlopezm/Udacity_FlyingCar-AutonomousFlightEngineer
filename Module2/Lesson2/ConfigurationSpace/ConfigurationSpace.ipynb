{
 "cells": [
  {
   "cell_type": "markdown",
   "id": "fd6a1b2d",
   "metadata": {},
   "source": [
    "## Confguration Space\n",
    "\n",
    "In this notebook we will create a configuration space given a map of the world and a particular altitude for our drone.\n",
    "\n",
    "The map is given in a `.csv` file, which contains obstacle data. The first line of the file gives the map center coordinates ([and this is here)](https://www.google.com/maps/place/37°47'32.9%22N+122°23'50.8%22W/@37.7924566,-122.4018247,16z/data=!4m5!3m4!1s0x0:0xc1332062f3ed759d!8m2!3d37.79248!4d-122.39745). The rest of the file is arranged in six columns $x$, $y$, $z$ and $\\delta x$, $\\delta y$, $\\delta z$ such that:\n",
    "\n",
    "* $x$ -> NORTH\n",
    "* $y$ -> EAST\n",
    "* $z$ -> ALTITUDE (positive up, note the difference with NED coords)\n",
    "\n",
    "Each $(x, y, z)$ coordinate is the center of an obstacle. $\\delta x$, $\\delta y$, $\\delta z$ are the half widths of the obstacles, meaning for example that an obstacle with $(x = 37, y = 12, z = 8)$ and $(\\delta x = 5, \\delta y = 5, \\delta z = 8)$ is a 10 x 10 m obstacle that is 16 m high and is centered at the point $(x, y) = (37, 12)$ at a height of 8 m.\n",
    "\n",
    "Given a map like this, the free space in the $(x, y)$ plane is a function of altitude, and we can plan a path around an obstacle, or simply fly over it!\n",
    "\n",
    "We will extend each obstacle by a safety margin to create the equivalent of a 3 dimensional configuration space. \n",
    "\n",
    "The task is to extract a 2D grid map at 1 metre resolution of the configuration space for a particular altitude, where each value is assigned either a 0 or 1 representing feasible or infeasible (obstacle) spaces respectively.\n",
    "\n",
    "The end result should look something like this ... (colours aren't important)\n",
    "\n",
    "![title](grid_map.png)"
   ]
  },
  {
   "cell_type": "code",
   "execution_count": 1,
   "id": "770eb4f2",
   "metadata": {},
   "outputs": [],
   "source": [
    "import numpy as np \n",
    "import matplotlib.pyplot as plt\n",
    "\n",
    "%matplotlib inline\n",
    "\n",
    "plt.rcParams[\"figure.figsize\"] = [12, 12]"
   ]
  },
  {
   "cell_type": "markdown",
   "id": "9014645d",
   "metadata": {},
   "source": [
    "Read the csv file which contains the coordinates of the obstacles. "
   ]
  },
  {
   "cell_type": "code",
   "execution_count": 2,
   "id": "ee58f434",
   "metadata": {},
   "outputs": [
    {
     "name": "stdout",
     "output_type": "stream",
     "text": [
      "[[-310.2389   -439.2315     85.5         5.          5.         85.5     ]\n",
      " [-300.2389   -439.2315     85.5         5.          5.         85.5     ]\n",
      " [-290.2389   -439.2315     85.5         5.          5.         85.5     ]\n",
      " ...\n",
      " [ 257.8061    425.1645      1.75852     1.292725    1.292725    1.944791]\n",
      " [ 293.9967    368.3391      3.557666    1.129456    1.129456    3.667319]\n",
      " [ 281.5162    354.4156      4.999351    1.053772    1.053772    4.950246]]\n"
     ]
    }
   ],
   "source": [
    "filename = 'colliders.csv'\n",
    "# Read in the data skipping the first two lines.  \n",
    "# Note: the first line contains the latitude and longitude of map center\n",
    "data = np.loadtxt(filename,delimiter=',',dtype='Float64',skiprows=2)\n",
    "print(data)"
   ]
  },
  {
   "cell_type": "markdown",
   "id": "b5e913e9",
   "metadata": {},
   "source": [
    "The given function will take the data from the file describing the obstacles city and will return a 2D grid representation showing open and closed spaces."
   ]
  },
  {
   "cell_type": "code",
   "execution_count": 3,
   "id": "4dc6aa98",
   "metadata": {},
   "outputs": [],
   "source": [
    "def create_grid(data, drone_altitude, safety_distance):\n",
    "    \"\"\"\n",
    "    Returns a grid representation of a 2D configuration space\n",
    "    based on given obstacle data, drone altitude and safety distance\n",
    "    arguments.\n",
    "    \"\"\"\n",
    "\n",
    "    # minimum and maximum north coordinates\n",
    "    north_min = np.floor(np.amin(data[:, 0] - data[:, 3]))   #np.floor = rounding to lower integer (-2.3 --> -3)\n",
    "    north_max = np.ceil(np.amax(data[:, 0] + data[:, 3]))    #np.ceil = rounding to upper integer (-2.3 --> -2)\n",
    "\n",
    "    # minimum and maximum east coordinates\n",
    "    east_min = np.floor(np.amin(data[:, 1] - data[:, 4]))\n",
    "    east_max = np.ceil(np.amax(data[:, 1] + data[:, 4]))\n",
    "\n",
    "    # given the minimum and maximum coordinates we can\n",
    "    # calculate the size of the grid.\n",
    "    north_size = int(np.ceil(north_max - north_min))\n",
    "    east_size = int(np.ceil(east_max - east_min))\n",
    "    \n",
    "    # Initialize an empty grid\n",
    "    grid = np.zeros((north_size, east_size))\n",
    "    \n",
    "    # Populate the grid with obstacles\n",
    "    for i in range(data.shape[0]):\n",
    "        north, east, alt, d_north, d_east, d_alt = data[i, :]\n",
    "        \n",
    "        if drone_altitude <= (alt + d_alt + safety_distance):\n",
    "            obst = [int(np.clip(north - d_north - safety_distance - north_min, 0, north_size-1)),\n",
    "                    int(np.clip(north + d_north + safety_distance - north_min, 0, north_size-1)),\n",
    "                    int(np.clip(east - d_east - safety_distance - east_min, 0, east_size-1)),\n",
    "                    int(np.clip(east + d_east + safety_distance - east_min, 0, east_size-1))]\n",
    "            \n",
    "            grid[obst[0]:obst[1]+1, obst[2]:obst[3]+1] = 1\n",
    "\n",
    "    return grid"
   ]
  },
  {
   "cell_type": "code",
   "execution_count": 4,
   "id": "efa682d2",
   "metadata": {},
   "outputs": [
    {
     "data": {
      "image/png": "[encoded data removed]",
      "text/plain": [
       "<matplotlib.figure.Figure at 0x7fd78d71b9e8>"
      ]
     },
     "metadata": {
      "needs_background": "light"
     },
     "output_type": "display_data"
    }
   ],
   "source": [
    "# Static drone altitude (metres)\n",
    "drone_altitude = 10\n",
    "\n",
    "# Minimum distance required to stay away from an obstacle (metres)\n",
    "# Think of this as padding around the obstacles.\n",
    "safe_distance = 3\n",
    "\n",
    "# Creation of configuration spacee at the indicated drone_altitude and safe_distance\n",
    "grid = create_grid(data, drone_altitude, safe_distance)\n",
    "\n",
    "# Plotting the grid\n",
    "# NOTE we are placing the origin in the lower lefthand corner so that north is up\n",
    "plt.imshow(grid, origin='lower') \n",
    "plt.xlabel('EAST')\n",
    "plt.ylabel('NORTH')\n",
    "plt.show()"
   ]
  },
  {
   "cell_type": "markdown",
   "id": "321a7285",
   "metadata": {},
   "source": [
    "Play around with the drone_altitude and safe_distance values to get a feel for how it changes the map."
   ]
  }
 ],
 "metadata": {
  "kernelspec": {
   "display_name": "Python 3",
   "language": "python",
   "name": "python3"
  },
  "language_info": {
   "codemirror_mode": {
    "name": "ipython",
    "version": 3
   },
   "file_extension": ".py",
   "mimetype": "text/x-python",
   "name": "python",
   "nbconvert_exporter": "python",
   "pygments_lexer": "ipython3",
   "version": "3.6.3"
  }
 },
 "nbformat": 4,
 "nbformat_minor": 5
}
