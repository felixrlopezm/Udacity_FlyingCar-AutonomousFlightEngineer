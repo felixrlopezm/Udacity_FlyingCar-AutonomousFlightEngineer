{
 "cells": [
  {
   "cell_type": "markdown",
   "id": "955ff95c",
   "metadata": {},
   "source": [
    "# Uniform Cost Search"
   ]
  },
  {
   "cell_type": "markdown",
   "id": "f11c0a66",
   "metadata": {},
   "source": [
    "Implementation of the Uniform-Cost search algorithm."
   ]
  },
  {
   "cell_type": "code",
   "execution_count": 1,
   "id": "904c4e87",
   "metadata": {},
   "outputs": [],
   "source": [
    "from queue import Queue, PriorityQueue\n",
    "import numpy as np\n",
    "from enum import Enum"
   ]
  },
  {
   "cell_type": "markdown",
   "id": "c2a985d6",
   "metadata": {},
   "source": [
    "https://wiki.python.org/moin/TimeComplexity gives a solid overview of Python data structures and their time complexity."
   ]
  },
  {
   "cell_type": "markdown",
   "id": "d32a007f",
   "metadata": {},
   "source": [
    "[`Enum`](https://docs.python.org/3/library/enum.html#module-enum) is used to represent possible actions on the grid.\n",
    "\n",
    "\n",
    "[`PriorityQueue`](https://docs.python.org/3/library/queue.html#queue.PriorityQueue) is used in order to prioritize expanding nodes with lower cost. More about `PriorityQueue` [here](https://www.linode.com/docs/guides/python-priority-queue/)."
   ]
  },
  {
   "cell_type": "code",
   "execution_count": 2,
   "id": "acf2516c",
   "metadata": {},
   "outputs": [],
   "source": [
    "class Action(Enum):\n",
    "    \"\"\"\n",
    "    An action is represented by a 3 element tuple.\n",
    "    \n",
    "    The first 2 values are the delta of the action relative\n",
    "    to the current grid position. The third and final value\n",
    "    is the cost of performing the action.\n",
    "    \"\"\"\n",
    "    LEFT = (0, -1, 1)\n",
    "    RIGHT = (0, 1, 1)\n",
    "    UP = (-1, 0, 1.5)      # Up action is set to cost more than the others\n",
    "    DOWN = (1, 0, 1)\n",
    "    \n",
    "    def __str__(self):\n",
    "        if self == self.LEFT:\n",
    "            return '<'\n",
    "        elif self == self.RIGHT:\n",
    "            return '>'\n",
    "        elif self == self.UP:\n",
    "            return '^'\n",
    "        elif self == self.DOWN:\n",
    "            return 'v'\n",
    "    \n",
    "    @property\n",
    "    def cost(self):\n",
    "        return self.value[2]\n",
    "    \n",
    "    @property\n",
    "    def delta(self):\n",
    "        return (self.value[0], self.value[1])\n",
    "            \n",
    "    \n",
    "def valid_actions(grid, current_node):\n",
    "    \"\"\"\n",
    "    Returns a list of valid actions given a grid and current node.\n",
    "    \"\"\"\n",
    "    valid = [Action.UP, Action.LEFT, Action.RIGHT, Action.DOWN]\n",
    "    n, m = grid.shape[0] - 1, grid.shape[1] - 1\n",
    "    x, y = current_node\n",
    "    \n",
    "    # check if the node is off the grid or\n",
    "    # it's an obstacle\n",
    "    \n",
    "    if x - 1 < 0 or grid[x-1, y] == 1:\n",
    "        valid.remove(Action.UP)\n",
    "    if x + 1 > n or grid[x+1, y] == 1:\n",
    "        valid.remove(Action.DOWN)\n",
    "    if y - 1 < 0 or grid[x, y-1] == 1:\n",
    "        valid.remove(Action.LEFT)\n",
    "    if y + 1 > m or grid[x, y+1] == 1:\n",
    "        valid.remove(Action.RIGHT)\n",
    "        \n",
    "    return valid\n",
    "\n",
    "def visualize_path(grid, path, start):\n",
    "    sgrid = np.zeros(np.shape(grid), dtype=np.str)\n",
    "    sgrid[:] = ' '\n",
    "    sgrid[grid[:] == 1] = 'O'\n",
    "    \n",
    "    pos = start\n",
    "    \n",
    "    for a in path:\n",
    "        da = a.value\n",
    "        sgrid[pos[0], pos[1]] = str(a)\n",
    "        pos = (pos[0] + da[0], pos[1] + da[1])\n",
    "    sgrid[pos[0], pos[1]] = 'G'\n",
    "    sgrid[start[0], start[1]] = 'S'  \n",
    "    return sgrid"
   ]
  },
  {
   "cell_type": "markdown",
   "id": "79f1879e",
   "metadata": {},
   "source": [
    "### Cost Search\n",
    "\n",
    "In this section the breadth-first search algorithm is extended by incorporating a cost for each action. In order to implement the Uniform Cost Search the lowest cost path is be selected at every expansion thanks to the PriorityQueue class, that priorizes the value of the first argument in every element of the queue, to take the lowest."
   ]
  },
  {
   "cell_type": "code",
   "execution_count": 3,
   "id": "112f01d0",
   "metadata": {},
   "outputs": [],
   "source": [
    "def uniform_cost(grid, start, goal):\n",
    "\n",
    "    # Initialize queue, visited list and branch dictionay\n",
    "    path = []\n",
    "    q = PriorityQueue()     # Priority queue for prioritizing expanding cells with lower cost\n",
    "    q.put((0, start))       # (cost, cell); cost value is use for priority\n",
    "    visited = set(start)\n",
    "    branch = {}\n",
    "    \n",
    "    found = False           # Fag for end of search\n",
    "    \n",
    "    # Run loop while queue is not empty\n",
    "    while not q.empty():\n",
    "        # Get and remove the first element from the queue\n",
    "        current_cost, current_node = q.get()\n",
    "\n",
    "        # If the current cell corresponds to the goal state, stop the search\n",
    "        if current_node == goal:        \n",
    "            print('Found a path.')\n",
    "            found = True\n",
    "            break\n",
    "        else:\n",
    "            # Get the new valid nodes connected to the current node\n",
    "            valid = valid_actions(grid, current_node) \n",
    "            # Iterate through each of the new nodes and:\n",
    "            for action in valid:\n",
    "                da = action.delta    # delta-movement of performing the action\n",
    "                cost = action.cost   # cost of performing the action\n",
    "                next_node = (current_node[0] + da[0], current_node[1] + da[1])\n",
    "                new_cost = current_cost + cost\n",
    "                \n",
    "                # If the node has not been visited you will need to\n",
    "                if next_node not in visited:      # If the node has not been visited\n",
    "                    visited.add(next_node)        # mark it as visited\n",
    "                    q.put((new_cost, next_node))  # add it to the queue          \n",
    "                    branch[next_node] = (new_cost, current_node, action) # add how you got there and the cost of getting there\n",
    "             \n",
    "    path = []\n",
    "    path_cost = 0\n",
    "    if found:\n",
    "        \n",
    "        # retrace steps\n",
    "        path = []\n",
    "        n = goal\n",
    "        path_cost = branch[n][0]\n",
    "        while branch[n][1] != start:\n",
    "            path.append(branch[n][2])\n",
    "            n = branch[n][1]\n",
    "        path.append(branch[n][2])\n",
    "            \n",
    "    return path[::-1], path_cost"
   ]
  },
  {
   "cell_type": "markdown",
   "id": "54d8f7b7",
   "metadata": {},
   "source": [
    "### Executing the search\n",
    "\n",
    "Run `uniform_cost()` and reference the grid to see if the path makes sense.\n",
    "\n",
    "Note that the 2D-grid world is symmetric and the start and goal cells keep that symmetry so that there are two possible paths for getting the goal but only one gives minimum cost when the UP-action has a higher cost than the LOW-action."
   ]
  },
  {
   "cell_type": "code",
   "execution_count": 7,
   "id": "5dbd58e2",
   "metadata": {},
   "outputs": [],
   "source": [
    "start = (2, 0)\n",
    "goal = (2, 5)\n",
    "\n",
    "grid = np.array([\n",
    "    [0, 0, 0, 1, 0, 0],\n",
    "    [0, 1, 0, 1, 0, 0],\n",
    "    [0, 1, 0, 0, 0, 0],\n",
    "    [0, 1, 0, 1, 0, 0],\n",
    "    [0, 0, 0, 1, 0, 0],\n",
    "])"
   ]
  },
  {
   "cell_type": "code",
   "execution_count": 8,
   "id": "e2a28403",
   "metadata": {},
   "outputs": [
    {
     "name": "stdout",
     "output_type": "stream",
     "text": [
      "Found a path.\n",
      "Path cost:  10.0\n",
      "[<Action.DOWN: (1, 0, 1)>, <Action.DOWN: (1, 0, 1)>, <Action.RIGHT: (0, 1, 1)>, <Action.RIGHT: (0, 1, 1)>, <Action.UP: (-1, 0, 1.5)>, <Action.UP: (-1, 0, 1.5)>, <Action.RIGHT: (0, 1, 1)>, <Action.RIGHT: (0, 1, 1)>, <Action.RIGHT: (0, 1, 1)>]\n"
     ]
    }
   ],
   "source": [
    "path, path_cost = uniform_cost(grid, start, goal)\n",
    "print('Path cost: ', path_cost)\n",
    "print(path)"
   ]
  },
  {
   "cell_type": "code",
   "execution_count": 9,
   "id": "ad48bbea",
   "metadata": {},
   "outputs": [
    {
     "data": {
      "text/plain": [
       "array([[' ', ' ', ' ', 'O', ' ', ' '],\n",
       "       [' ', 'O', ' ', 'O', ' ', ' '],\n",
       "       ['S', 'O', '>', '>', '>', 'G'],\n",
       "       ['v', 'O', '^', 'O', ' ', ' '],\n",
       "       ['>', '>', '^', 'O', ' ', ' ']], dtype='<U1')"
      ]
     },
     "execution_count": 9,
     "metadata": {},
     "output_type": "execute_result"
    }
   ],
   "source": [
    "# S -> start, G -> goal, O -> obstacle\n",
    "visualize_path(grid, path, start)"
   ]
  },
  {
   "cell_type": "code",
   "execution_count": null,
   "id": "475ad2bd",
   "metadata": {},
   "outputs": [],
   "source": []
  }
 ],
 "metadata": {
  "kernelspec": {
   "display_name": "Python 3",
   "language": "python",
   "name": "python3"
  },
  "language_info": {
   "codemirror_mode": {
    "name": "ipython",
    "version": 3
   },
   "file_extension": ".py",
   "mimetype": "text/x-python",
   "name": "python",
   "nbconvert_exporter": "python",
   "pygments_lexer": "ipython3",
   "version": "3.6.3"
  }
 },
 "nbformat": 4,
 "nbformat_minor": 5
}
