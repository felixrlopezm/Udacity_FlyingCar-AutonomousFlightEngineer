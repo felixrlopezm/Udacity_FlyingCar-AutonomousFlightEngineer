{
 "cells": [
  {
   "cell_type": "markdown",
   "id": "69a6d6dc",
   "metadata": {},
   "source": [
    "# Random Sampling\n",
    "\n",
    "In this notebook we work with the obstacle's polygon representation itself.\n",
    "\n",
    "We can leverage a powerful Python package called [Shapely](http://shapely.readthedocs.io/en/stable/manual.html). \n",
    "\n",
    "The tasks will be:\n",
    "\n",
    "1. Create polygons.\n",
    "2. Sample random 3D points.\n",
    "3. Remove points contained by an obstacle polygon.\n",
    "\n",
    "Recall, a point $(x, y, z)$ collides with a polygon if the $(x, y)$ coordinates are contained by the polygon and the $z$ coordinate (height) is less than the height of the polygon."
   ]
  },
  {
   "cell_type": "code",
   "execution_count": 13,
   "id": "169a651c",
   "metadata": {},
   "outputs": [],
   "source": [
    "import time\n",
    "import numpy as np\n",
    "import matplotlib.pyplot as plt\n",
    "from mpl_toolkits.mplot3d import Axes3D\n",
    "from shapely.geometry import Polygon, Point\n",
    "\n",
    "from grid import create_grid\n",
    "\n",
    "%matplotlib inline \n",
    "\n",
    "plt.rcParams['figure.figsize'] = 13, 13"
   ]
  },
  {
   "cell_type": "code",
   "execution_count": 2,
   "id": "1beab4d5",
   "metadata": {},
   "outputs": [
    {
     "name": "stdout",
     "output_type": "stream",
     "text": [
      "Data shape: (3845, 6)\n",
      "\n",
      " [[-310.2389   -439.2315     85.5         5.          5.         85.5     ]\n",
      " [-300.2389   -439.2315     85.5         5.          5.         85.5     ]\n",
      " [-290.2389   -439.2315     85.5         5.          5.         85.5     ]\n",
      " ...\n",
      " [ 257.8061    425.1645      1.75852     1.292725    1.292725    1.944791]\n",
      " [ 293.9967    368.3391      3.557666    1.129456    1.129456    3.667319]\n",
      " [ 281.5162    354.4156      4.999351    1.053772    1.053772    4.950246]]\n"
     ]
    }
   ],
   "source": [
    "# Obstacle data\n",
    "filename = 'colliders.csv'\n",
    "data = np.loadtxt(filename, delimiter=',', dtype='Float64', skiprows=2)\n",
    "print('Data shape:', data.shape)\n",
    "print('\\n',data)"
   ]
  },
  {
   "cell_type": "markdown",
   "id": "821a2b14",
   "metadata": {},
   "source": [
    "### Create Polygons"
   ]
  },
  {
   "cell_type": "code",
   "execution_count": 3,
   "id": "fab08f02",
   "metadata": {},
   "outputs": [],
   "source": [
    "def extract_polygons(data):\n",
    "    polygons = []\n",
    "    for i in range(data.shape[0]):\n",
    "        north, east, alt, d_north, d_east, d_alt = data[i, :]\n",
    "        \n",
    "        # Extract the 4 corners of the obstacle\n",
    "        # NOTE: The order of the points matters since `shapely` draws\n",
    "        # the sequentially counterclockwise from point to point.\n",
    "        #\n",
    "        # If the area of the polygon is 0 you've likely got a weird order.\n",
    "        p1 = (north + d_north, east - d_east)\n",
    "        p2 = (north + d_north, east + d_east)\n",
    "        p3 = (north - d_north, east + d_east)\n",
    "        p4 = (north - d_north, east - d_east)\n",
    "        corners = [p1, p2, p3, p4]\n",
    "        \n",
    "        # Compute the height of the polygon\n",
    "        height = alt + d_alt\n",
    "\n",
    "        # Define polygons, adding height as attribute of each\n",
    "        p = Polygon(corners)\n",
    "        polygons.append((p, height))\n",
    "\n",
    "    return polygons"
   ]
  },
  {
   "cell_type": "code",
   "execution_count": 4,
   "id": "bcb48bbe",
   "metadata": {},
   "outputs": [
    {
     "name": "stdout",
     "output_type": "stream",
     "text": [
      "Number of polygons created: 3845\n",
      "Area of a selected polygon: 4.441741711935839\n"
     ]
    }
   ],
   "source": [
    "polygons = extract_polygons(data)\n",
    "print('Number of polygons created:', len(polygons))\n",
    "\n",
    "print('Area of a selected polygon:',polygons[3844][0].area)"
   ]
  },
  {
   "cell_type": "markdown",
   "id": "1c63d4e4",
   "metadata": {},
   "source": [
    "### Sampling 3D Points\n",
    "\n",
    "Let's sample random 3D points in the max and min values for each dimension.\n",
    "\n",
    "The uniform distribution makes sense in this situation since we we'd like to encourage searching the whole space."
   ]
  },
  {
   "cell_type": "code",
   "execution_count": 5,
   "id": "efeae32f",
   "metadata": {},
   "outputs": [
    {
     "name": "stdout",
     "output_type": "stream",
     "text": [
      "X\n",
      "min = -315.2389, max = 604.7611\n",
      "\n",
      "Y\n",
      "min = -444.2315, max = 475.7685\n",
      "\n",
      "Z\n",
      "min = 0, max = 5\n"
     ]
    }
   ],
   "source": [
    "# X limits\n",
    "xmin = np.min(data[:, 0] - data[:, 3])\n",
    "xmax = np.max(data[:, 0] + data[:, 3])\n",
    "\n",
    "# Y limits\n",
    "ymin = np.min(data[:, 1] - data[:, 4])\n",
    "ymax = np.max(data[:, 1] + data[:, 4])\n",
    "\n",
    "# Z limits\n",
    "zmin = 0\n",
    "zmax = 5    # Limit the z axis for the visualization\n",
    "\n",
    "print(\"X\")\n",
    "print(\"min = {0}, max = {1}\\n\".format(xmin, xmax))\n",
    "\n",
    "print(\"Y\")\n",
    "print(\"min = {0}, max = {1}\\n\".format(ymin, ymax))\n",
    "\n",
    "print(\"Z\")\n",
    "print(\"min = {0}, max = {1}\".format(zmin, zmax))"
   ]
  },
  {
   "cell_type": "code",
   "execution_count": 6,
   "id": "dbae9a08",
   "metadata": {},
   "outputs": [],
   "source": [
    "# Number of samples\n",
    "num_samples = 200\n",
    "\n",
    "# Sampling points\n",
    "xvals = np.random.uniform(xmin, xmax, num_samples)\n",
    "yvals = np.random.uniform(ymin, ymax, num_samples)\n",
    "zvals = np.random.uniform(zmin, zmax, num_samples)\n",
    "\n",
    "samples = list(zip(xvals, yvals, zvals))"
   ]
  },
  {
   "cell_type": "code",
   "execution_count": 7,
   "id": "60f346a5",
   "metadata": {},
   "outputs": [
    {
     "data": {
      "text/plain": [
       "[(240.0278250307088, 80.70691915418661, 2.5844969192382643),\n",
       " (597.0820560277011, -167.21316667505994, 1.505303061981647),\n",
       " (175.0260927882744, 51.54532516931772, 2.371278819291499),\n",
       " (576.2367016622695, 369.503629331272, 0.5448894691571232),\n",
       " (-301.5767109562404, 69.10555186928525, 3.179783527941702),\n",
       " (-159.24911043133963, -231.20546983391375, 1.5023576881743734),\n",
       " (-113.59007001836383, 46.74052535964921, 1.9797921217430225),\n",
       " (61.67003297316052, 466.62098006430665, 2.5067538442391673),\n",
       " (50.171408333154375, 379.4940774202804, 3.9761840121302643),\n",
       " (287.4847199740306, -40.79507147551902, 4.656987899016395)]"
      ]
     },
     "execution_count": 7,
     "metadata": {},
     "output_type": "execute_result"
    }
   ],
   "source": [
    "# Print the first 10 sampled points\n",
    "samples[:10]"
   ]
  },
  {
   "cell_type": "markdown",
   "id": "bfdd5757",
   "metadata": {},
   "source": [
    "### Removing Points Colliding With Obstacles\n",
    "\n",
    "Prior to remove a point we must determine whether it collides with any obstacle. This is done by the `collides` function below. It returns `True` if the point collides with *any* obstacle and `False` if no collision is detected."
   ]
  },
  {
   "cell_type": "code",
   "execution_count": 10,
   "id": "4bf11565",
   "metadata": {},
   "outputs": [],
   "source": [
    "def collides(polygons, point):   \n",
    "    ''' This function Determine whether the point collides \n",
    "    with any obstacles.\n",
    "    '''\n",
    "    for (poly, height) in polygons:\n",
    "        if poly.contains(Point(point)) and height > point[2]:\n",
    "            return True\n",
    "    return False"
   ]
  },
  {
   "cell_type": "code",
   "execution_count": 11,
   "id": "24302a91",
   "metadata": {},
   "outputs": [
    {
     "name": "stdout",
     "output_type": "stream",
     "text": [
      "Time taken 11.78 seconds ...\n",
      "72 sampled points collide. They are removed from the list!\n"
     ]
    }
   ],
   "source": [
    "# Removal of all the sampled points that collides\n",
    "t0 = time.time()\n",
    "to_keep = []\n",
    "\n",
    "for point in samples:\n",
    "    if not collides(polygons, point):\n",
    "        to_keep.append(point)\n",
    "        \n",
    "time_taken = time.time() - t0\n",
    "print('Time taken {:0.2f} seconds ...'.format(time_taken))\n",
    "print('{} sampled points collide. They are removed from the list!'.format(num_samples - len(to_keep)))"
   ]
  },
  {
   "cell_type": "markdown",
   "id": "dc40ee1e",
   "metadata": {},
   "source": [
    "### Points Visualization"
   ]
  },
  {
   "cell_type": "code",
   "execution_count": 14,
   "id": "82c8c93f",
   "metadata": {},
   "outputs": [
    {
     "data": {
      "image/png": "[encoded data removed]",
      "text/plain": [
       "<matplotlib.figure.Figure at 0x7fee418f7d68>"
      ]
     },
     "metadata": {
      "needs_background": "light"
     },
     "output_type": "display_data"
    }
   ],
   "source": [
    "# Grid creation\n",
    "grid = create_grid(data, zmax, 0)\n",
    "\n",
    "# minimum north and east coordinates\n",
    "north_min = np.floor(np.min(data[:, 0] - data[:, 3]))\n",
    "east_min = np.floor(np.min(data[:, 1] - data[:, 4]))\n",
    "\n",
    "# Plotting\n",
    "fig = plt.figure()\n",
    "plt.imshow(grid, cmap='Greys', origin='lower')\n",
    "\n",
    "# draw points\n",
    "all_pts = np.array(to_keep)\n",
    "north_vals = all_pts[:,0]\n",
    "east_vals = all_pts[:,1]\n",
    "plt.scatter(east_vals - east_min, north_vals - north_min, marker='o', color='red')\n",
    "\n",
    "plt.xlabel('EAST', fontsize=20)\n",
    "plt.ylabel('NORTH', fontsize=20)\n",
    "plt.suptitle('Random Sampling', fontsize=20, x=0.5, y=0.93)\n",
    "plt.title('Removed points that colliide with obstacles at {}-m height'.format(zmax),\n",
    "          fontsize=16, x=0.5, y=1.0)\n",
    "\n",
    "plt.show()"
   ]
  },
  {
   "cell_type": "markdown",
   "id": "19939e71",
   "metadata": {},
   "source": [
    "## Epilogue\n",
    "\n",
    "You may have noticed removing points can be quite lengthy. In the implementation provided here we're naively checking to see if the point collides with each polygon when in reality it can only collide with one, the one that's closest to the point. The question then becomes \"How do we efficiently find the closest polygon to the point?\"\n",
    "\n",
    "One such approach is to use a *[k-d tree](https://en.wikipedia.org/wiki/K-d_tree)*, a space-partitioning data structure which allows search queries in $O(log(n))$. The *k-d tree* achieves this by cutting the search space in half on each step of a query.\n",
    "\n",
    "This would bring the total algorithm time down to $O(m * log(n))$ from $O(m*n)$.\n",
    "\n",
    "The scikit-learn library has an efficient implementation [readily available](http://scikit-learn.org/stable/modules/generated/sklearn.neighbors.KDTree.html#sklearn.neighbors.KDTree)."
   ]
  }
 ],
 "metadata": {
  "kernelspec": {
   "display_name": "Python 3",
   "language": "python",
   "name": "python3"
  },
  "language_info": {
   "codemirror_mode": {
    "name": "ipython",
    "version": 3
   },
   "file_extension": ".py",
   "mimetype": "text/x-python",
   "name": "python",
   "nbconvert_exporter": "python",
   "pygments_lexer": "ipython3",
   "version": "3.6.3"
  }
 },
 "nbformat": 4,
 "nbformat_minor": 5
}
