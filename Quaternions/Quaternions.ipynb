{
 "cells": [
  {
   "cell_type": "markdown",
   "id": "fd6a1b2d",
   "metadata": {},
   "source": [
    "## Quaternions\n",
    "\n",
    "In the following exercise we implement functions to convert between Euler angles and quaternion representations.\n",
    "\n",
    "It's useful to be able to easily navigate back and forth between these representations because of their relative strengths. Quaternions are better for calculations, while Euler angles are far more intuitive.\n",
    "\n",
    "Some messages coming from your drone in simulation (or in the real world) will represent orientation data as a quaternion, while others use Euler angles. So it's a good idea to be able to seamlessly handle both. \n",
    "\n",
    "The [`udacidrone` API imlementation](https://github.com/udacity/udacidrone/blob/master/udacidrone/connection/message_types.py#L189-L284) that we are using for the projects in this program already has these conversions implemented under the hood so that's a great place to look for inspiration."
   ]
  },
  {
   "cell_type": "code",
   "execution_count": 48,
   "id": "096f8864",
   "metadata": {},
   "outputs": [],
   "source": [
    "import numpy as np\n",
    "\n",
    "def euler_to_quaternion(angles):\n",
    "    '''\n",
    "    Function to convert from Euler angles to Quaternion.\n",
    "    \n",
    "    Input: numnpy array of 3 elements represening roll, pitch and\n",
    "           yaw angles [roll, pitch, yaw] expressed in radians\n",
    "    \n",
    "    Output: numpy array of 4 elements representing a \n",
    "            quaternion [a, b, c, d]\n",
    "    '''\n",
    "    roll = angles[0]\n",
    "    pitch = angles[1]\n",
    "    yaw = angles[2]\n",
    "    \n",
    "    # Conversion\n",
    "    a = (np.cos(roll/2) * np.cos(pitch/2) * np.cos(yaw/2) +\n",
    "         np.sin(roll/2) * np.sin(pitch/2) * np.sin(yaw/2))\n",
    "    \n",
    "    b = (np.sin(roll/2) * np.cos(pitch/2) * np.cos(yaw/2) -\n",
    "        np.cos(roll/2) * np.sin(pitch/2) * np.sin(yaw/2))\n",
    "    \n",
    "    c = (np.cos(roll/2) * np.sin(pitch/2) * np.cos(yaw/2) +\n",
    "        np.sin(roll/2) * np.cos(pitch/2) * np.sin(yaw/2))\n",
    "    \n",
    "    d = (np.cos(roll/2) * np.cos(pitch/2) * np.sin(yaw/2) -\n",
    "        np.sin(roll/2) * np.sin(pitch/2) * np.cos(yaw/2))\n",
    "    \n",
    "    return np.array([a, b, c, d])\n",
    "\n",
    "def quaternion_to_euler(quaternion):\n",
    "    '''\n",
    "    Function to convert from Quaternion to Euler angles.\n",
    "    \n",
    "    Input: numpy array of 4 elements representing a \n",
    "            quaternion [a, b, c, d]\n",
    "            \n",
    "    Output: numnpy array of 3 elements represening roll, pitch and\n",
    "           yaw angles [roll, pitch, yaw] expressed in radians\n",
    "    \n",
    "    \n",
    "    '''\n",
    "    a = quaternion[0]\n",
    "    b = quaternion[1]\n",
    "    c = quaternion[2]\n",
    "    d = quaternion[3]\n",
    "    \n",
    "    # Conversion\n",
    "    roll = np.arctan2(2 * (a * b + c * d), (1 - 2 * (b**2 + c**2)))\n",
    "    pitch = np.arcsin(2 * (a * c - d * b))\n",
    "    yaw = np.arctan2(2 * (a * d + b * c), (1 - 2 * (c**2 + d**2)))\n",
    "\n",
    "    return np.array([roll, pitch, yaw])"
   ]
  },
  {
   "cell_type": "markdown",
   "id": "49e18a9b",
   "metadata": {},
   "source": [
    "Test the conversion."
   ]
  },
  {
   "cell_type": "code",
   "execution_count": 77,
   "id": "24b5c21a",
   "metadata": {},
   "outputs": [
    {
     "name": "stdout",
     "output_type": "stream",
     "text": [
      "[90. 30.  0.]\n",
      "[ 0.6830127  0.6830127  0.1830127 -0.1830127]\n",
      "[1.57079633 0.52359878 0.        ]\n",
      "[90. 30.  0.]\n"
     ]
    }
   ],
   "source": [
    "# Euler angles to convert: roll=90º, pitch=30º, yaw=0º\n",
    "euler_angles = np.array([np.deg2rad(90), np.deg2rad(30), np.deg2rad(0)])\n",
    "print(np.rad2deg(euler_angles))\n",
    "\n",
    "# Conversion from Euler angles to quaternion\n",
    "q = euler_to_quaternion(euler_angles) # should be [ 0.683  0.683  0.183 -0.183]\n",
    "print(q)\n",
    "\n",
    "# Convert back the previous quaternioun q to Euler angles\n",
    "e = quaternion_to_euler(q) # should be [ 1.570  0.523  0.] in radians\n",
    "print(e)\n",
    "print(np.rad2deg(e))"
   ]
  },
  {
   "cell_type": "code",
   "execution_count": null,
   "id": "ee58f434",
   "metadata": {},
   "outputs": [],
   "source": []
  }
 ],
 "metadata": {
  "kernelspec": {
   "display_name": "Python 3",
   "language": "python",
   "name": "python3"
  },
  "language_info": {
   "codemirror_mode": {
    "name": "ipython",
    "version": 3
   },
   "file_extension": ".py",
   "mimetype": "text/x-python",
   "name": "python",
   "nbconvert_exporter": "python",
   "pygments_lexer": "ipython3",
   "version": "3.6.3"
  }
 },
 "nbformat": 4,
 "nbformat_minor": 5
}
